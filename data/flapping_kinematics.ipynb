{
 "cells": [
  {
   "cell_type": "code",
   "execution_count": null,
   "metadata": {},
   "outputs": [],
   "source": [
    "import math\n",
    "import numpy\n",
    "import ipywidgets\n",
    "from matplotlib import pyplot\n",
    "%matplotlib inline"
   ]
  },
  {
   "cell_type": "code",
   "execution_count": null,
   "metadata": {},
   "outputs": [],
   "source": [
    "import sys\n",
    "modules_dir = '../src/python'\n",
    "if modules_dir not in sys.path:\n",
    "    sys.path.insert(0, modules_dir)\n",
    "\n",
    "from regularize import regularize\n",
    "import flapping"
   ]
  },
  {
   "cell_type": "code",
   "execution_count": null,
   "metadata": {},
   "outputs": [],
   "source": [
    "# Set the type and size of the font to use in Matplotlib figures.\n",
    "pyplot.rc('font', family='serif', size=16)"
   ]
  },
  {
   "cell_type": "code",
   "execution_count": null,
   "metadata": {},
   "outputs": [],
   "source": [
    "def ellipse(a, b, center=(0.0, 0.0), num=50):\n",
    "    \"\"\"\n",
    "    Returns the coordinates of an ellipse.\n",
    "    \n",
    "    Parameters\n",
    "    ----------\n",
    "    a: float\n",
    "        The semi-major axis of the ellipse.\n",
    "    b: float\n",
    "        The semi-minor axis of the ellipse.\n",
    "    center: 2-tuple of floats, optional\n",
    "        The position of the center of the ellipse;\n",
    "        default: (0.0, 0.0)\n",
    "    num: integer, optional\n",
    "        The number of points on the upper side of the ellipse.\n",
    "        The number includes the leading and trailing edges.\n",
    "        Thus, the total number of points will be 2 * (num - 1);\n",
    "        default: 50.\n",
    "    \n",
    "    Returns\n",
    "    -------\n",
    "    x: numpy.ndarray of floats\n",
    "        The x-coordinates of the ellipse.\n",
    "    y: numpy.ndarray of floats\n",
    "        The y-coordinates of the ellipse.\n",
    "    \"\"\"\n",
    "    xc, yc = center\n",
    "    x_upper = numpy.linspace(xc + a, xc - a, num=num)\n",
    "    y_upper = b / a * numpy.sqrt(a**2 - x_upper**2)\n",
    "    x_lower = numpy.linspace(xc - a, xc + a, num=num)[1:-1]\n",
    "    y_lower = -b / a * numpy.sqrt(a**2 - x_lower**2)\n",
    "    x = numpy.concatenate((x_upper, x_lower))\n",
    "    y = numpy.concatenate((y_upper, y_lower))\n",
    "    return x, y"
   ]
  },
  {
   "cell_type": "code",
   "execution_count": null,
   "metadata": {},
   "outputs": [],
   "source": [
    "def kinematics(x0, y0, center, t, flapping):\n",
    "    alpha = flapping.orientation_angle(t)\n",
    "    x, y = rotate(x0, y0, center=center, angle=alpha)\n",
    "    xd, yd = flapping.displacement(t)\n",
    "    x += xd\n",
    "    y += yd\n",
    "    return x, y"
   ]
  },
  {
   "cell_type": "code",
   "execution_count": null,
   "metadata": {},
   "outputs": [],
   "source": [
    "# Create an ellipse.\n",
    "c = 1.0  # chord of the ellipse (major axis)\n",
    "r = 0.1  # ratio between minor and major axis\n",
    "a, b = c / 2.0, r * c / 2.0\n",
    "x0, y0 = ellipse(a, b, center=(0.0, 0.0), num=100)\n",
    "ds = 0.025  # target distance between two consecutive points.\n",
    "x0, y0 = regularize(x0, y0, ds=ds)\n",
    "\n",
    "# Plot the ellipse.\n",
    "fig, ax = pyplot.subplots(figsize=(6.0, 6.0))\n",
    "ax.set_xlabel('x')\n",
    "ax.set_ylabel('y')\n",
    "ax.grid()\n",
    "ax.plot(x0, y0, color='C0', linestyle='-', linewidth=2)\n",
    "ax.axis('scaled', adjustable='box')\n",
    "ax.set_xlim(-0.75, 0.75)\n",
    "ax.set_ylim(-0.25, 0.25);"
   ]
  },
  {
   "cell_type": "code",
   "execution_count": null,
   "metadata": {},
   "outputs": [],
   "source": [
    "kinematics = flapping.Flapping()"
   ]
  },
  {
   "cell_type": "code",
   "execution_count": null,
   "metadata": {},
   "outputs": [],
   "source": [
    "def plot_position(t, x0, y0, kinematics):\n",
    "    t /= kinematics.f\n",
    "    x, y = kinematics.position(t, x0, y0)\n",
    "    fig, ax = pyplot.subplots(figsize=(8.0, 8.0))\n",
    "    ax.set_title('t / T = {}'.format(t * kinematics.f))\n",
    "    ax.set_xlabel('x')\n",
    "    ax.set_ylabel('y')\n",
    "    ax.grid()\n",
    "    ax.plot(x, y)\n",
    "    ax.axis('scaled', adjustable='box')\n",
    "    ax.set_xlim(-2.0, 2.0)\n",
    "    ax.set_ylim(-1.0, 1.0)\n",
    "    fig.tight_layout()"
   ]
  },
  {
   "cell_type": "code",
   "execution_count": null,
   "metadata": {},
   "outputs": [],
   "source": [
    "# Create and display an interative plot of the kinematics.\n",
    "time_slider = ipywidgets.FloatSlider(value=0.0, min=0.0, max=4.0,\n",
    "                                     step=0.05, description='t / T')\n",
    "w = ipywidgets.interactive(plot_position, t=time_slider,\n",
    "                           x0=ipywidgets.fixed(x0),\n",
    "                           y0=ipywidgets.fixed(y0),\n",
    "                           kinematics=ipywidgets.fixed(kinematics))\n",
    "display(w)"
   ]
  },
  {
   "cell_type": "code",
   "execution_count": null,
   "metadata": {},
   "outputs": [],
   "source": [
    "t_nodim = numpy.linspace(0.0, 0.5, num=100)\n",
    "t = t_nodim / kinematics.f\n",
    "alpha = kinematics.orientation_angle(t)\n",
    "cd, cl = kinematics.quasi_steady_coefficients(t)\n",
    "alpha_deg = numpy.degrees(alpha)\n",
    "\n",
    "fig, ax = pyplot.subplots(figsize=(6.0, 6.0))\n",
    "ax.set_xlabel(r'$\\alpha$ (deg)')\n",
    "ax.set_ylabel('Quasi-steady force coefficients')\n",
    "ax.grid()\n",
    "ax.plot(alpha_deg, cd, label='$C_D$')\n",
    "ax.plot(alpha_deg, cl, label='$C_L$')\n",
    "ax.legend()\n",
    "ax.set_ylim(-0.5, 2.5);"
   ]
  },
  {
   "cell_type": "code",
   "execution_count": null,
   "metadata": {},
   "outputs": [],
   "source": [
    "D, L = [], []\n",
    "for ti in t:\n",
    "    alpha = kinematics.orientation_angle(ti)\n",
    "    x, y = flapping.rotate(x0, y0, center=(0.0, 0.0), angle=alpha)\n",
    "    Di, Li = kinematics.quasi_steady_forces(ti, x, numpy.zeros_like(x), 0.0, 0.0, rho=1.0)\n",
    "    D.append(numpy.max(Di))\n",
    "    L.append(numpy.max(Li))\n",
    "D, L = numpy.array(D), numpy.array(L)\n",
    "\n",
    "fig, ax = pyplot.subplots(figsize=(6.0, 6.0))\n",
    "ax.set_xlabel('$t / T$')\n",
    "ax.set_ylabel('Quasi-steady forces')\n",
    "ax.grid()\n",
    "ax.plot(t_nodim, D, label='Drag')\n",
    "ax.plot(t_nodim, L, label='Lift')\n",
    "ax.set_xlim(t_nodim[0], t_nodim[-1])\n",
    "ax.legend();"
   ]
  },
  {
   "cell_type": "code",
   "execution_count": null,
   "metadata": {},
   "outputs": [],
   "source": []
  }
 ],
 "metadata": {
  "kernelspec": {
   "display_name": "Python 3 (MOOC)",
   "language": "python",
   "name": "py36-mooc"
  },
  "language_info": {
   "codemirror_mode": {
    "name": "ipython",
    "version": 3
   },
   "file_extension": ".py",
   "mimetype": "text/x-python",
   "name": "python",
   "nbconvert_exporter": "python",
   "pygments_lexer": "ipython3",
   "version": "3.6.5"
  }
 },
 "nbformat": 4,
 "nbformat_minor": 2
}
